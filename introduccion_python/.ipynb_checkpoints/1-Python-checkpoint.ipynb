{
 "cells": [
  {
   "cell_type": "code",
   "execution_count": null,
   "metadata": {},
   "outputs": [],
   "source": [
    "%%javascript\n",
    "    $(\"#homeButton\").remove()\n",
    "    $('body').append('<a href=\"#'+$(\"h1,h2,h3:eq(0)\").attr(\"id\")+'\" style=\"position: fixed; bottom: 10px; right: 10px;\" type=\"button\" class=\"btn btn-success btn-circle btn-lg\"><i class=\"glyphicon glyphicon-link\" id=\"homeButton\"></i></a>');\n",
    "    $(\"#MainMenu\").remove()\n",
    "    var menu = \n",
    "      '<div id=\"MainMenu\" style=\"position: fixed; top: 120px; right: 10px; z-index:6; max-height: 500px;\">'+\n",
    "        '<div class=\"list-group panel\" >'+\n",
    "          '<a href=\"#collapseMenu\" class=\"list-group-item list-group-item-success\" data-toggle=\"collapse\" data-parent=\"#MainMenu\">Indíce<i class=\"fa fa-caret-down\"></i></a>'+\n",
    "          '<div class=\"collapse\" id=\"collapseMenu\" style=\"overflow-y: overlay; max-height: 500px;\">'+\n",
    "          '</div>'+\n",
    "        '</div>'+\n",
    "      '</div>'\n",
    "   \n",
    "    var parent = $(menu)\n",
    "    var arrayIds = []\n",
    "    $(\"h1,h2,h3\").attr(\"id\",function(id,Value){\n",
    "        if(Value != \"\"){\n",
    "            var content = (Value.replace(new RegExp('-', 'g'), ' '));\n",
    "            content = \"&nbsp;\".repeat(parseInt($(this).prop(\"tagName\")[1])*2-1) + content;\n",
    "            $(parent).find(\"#collapseMenu\").append('<a href=\"#'+Value+'\" style=\"position:relative;\" class=\"list-group-item\" data-parent=\"#SubMenu1\">'+content+'</a>');\n",
    "        }\n",
    "    })\n",
    "$('body').append(parent)"
   ]
  },
  {
   "cell_type": "code",
   "execution_count": null,
   "metadata": {},
   "outputs": [],
   "source": [
    "%%html\n",
    "<style>\n",
    "    h3{\n",
    "        color:#0094E4;\n",
    "    }\n",
    "    h2{\n",
    "         color:#F28773;\n",
    "    }\n",
    "    h1{\n",
    "         color:#0094E4;\n",
    "    }\n",
    "</style>"
   ]
  },
  {
   "cell_type": "markdown",
   "metadata": {},
   "source": [
    "<img src=\"./images/logo.png\" style=\"width: 20%; margin-left: 70%;\">\n",
    "<img src=\"./images/python.png\" width=\"30%\" height=\"30%\" >"
   ]
  },
  {
   "cell_type": "markdown",
   "metadata": {},
   "source": [
    "<h1>Hitchhiker's Guide to Data Science: Python</h1>"
   ]
  },
  {
   "cell_type": "markdown",
   "metadata": {},
   "source": [
    "<h2 style=\"color:#045FB4\">Introducción</h2>\n",
    "<h3>¿Qué es Python?</h3>\n",
    "<ul>\n",
    "    <li>Un lenguaje interpretado, orientado a objetos</li>\n",
    "    <li>Muy usado en ciencias e ingeniería</li>\n",
    "</ul>"
   ]
  },
  {
   "cell_type": "markdown",
   "metadata": {},
   "source": [
    "<h2 style=\"color:#045FB4\"> ¿Por qué usar python? </h2>"
   ]
  },
  {
   "cell_type": "markdown",
   "metadata": {},
   "source": [
    "<ul>\n",
    "<li><strong>Fácil de aprender</strong> − Pocas keywords, estructura simple y una sintaxis clara.</li>\n",
    "\n",
    "<li><strong>Fácil de leer</strong> − Muy visual al ser identado.</li>\n",
    "\n",
    "<li><strong>Fácil de mantener</strong> − Python's source code is fairly easy-to-maintain.</li>\n",
    "\n",
    "<li><strong>Una librería estándar amplia</strong> − Portable y compatible multiplataforma con lamisma interaz.</li>\n",
    "\n",
    "</ul>"
   ]
  },
  {
   "cell_type": "markdown",
   "metadata": {},
   "source": [
    "<h2 style=\"color:#045FB4\">Tipos de datos estándar</h2>\n",
    "\n",
    "Antes de definir o asignar lo que sea a alguno de los tipos de datos es importante recordar...\n",
    "\n",
    "<div class=\"alert alert-warning\"><strong>¡Las palabras reservadas!</strong><br>\n",
    "<strong>\n",
    "and, as, assert, break, class, continue, def, del, elif, else, except, exec, finally, for, from, global, if, import, in, is, lambda, not, or, pass, print, raise, return, try, while, with, yield\n",
    "</strong>\n",
    "</div>\n",
    "\n",
    "<h4>Hay cinco tipos de datos estándar en Python</h4>\n",
    "<ol>\n",
    "<li>Números - Numbers</li>\n",
    "<li>Cadenas - String</li>\n",
    "<li>Listas - List</li>\n",
    "<li>Tuplas - Tuple</li>\n",
    "<li><strong>Diccionarios - Dictionary</strong></li>\n",
    "</ol>"
   ]
  },
  {
   "cell_type": "markdown",
   "metadata": {},
   "source": [
    "<h2 style=\"color:#045FB4\">Diccionarios</h2>\n",
    "\n",
    "**Diccionario** es un conjunto desordenado de pares de llaves y valores. Con e requisito de que las llaves seanúnicas dentro de cada diccionario. Un par de corchetes nos crean un diccionario vacío: `{}`."
   ]
  },
  {
   "cell_type": "code",
   "execution_count": null,
   "metadata": {
    "collapsed": true
   },
   "outputs": [],
   "source": [
    "dicti = {}\n",
    "dicti['persona'] = \"vanessa\"\n",
    "dicti['edad']= 26\n",
    "\n",
    "tinydict = {'name': 'peter','id':7895, 'dept': 'devp'}"
   ]
  },
  {
   "cell_type": "code",
   "execution_count": null,
   "metadata": {
    "collapsed": true
   },
   "outputs": [],
   "source": [
    "print (dicti['persona'])       "
   ]
  },
  {
   "cell_type": "code",
   "execution_count": null,
   "metadata": {
    "collapsed": true
   },
   "outputs": [],
   "source": [
    "print (tinydict.keys())   "
   ]
  },
  {
   "cell_type": "code",
   "execution_count": null,
   "metadata": {
    "collapsed": true
   },
   "outputs": [],
   "source": [
    "print (tinydict.values()) "
   ]
  },
  {
   "cell_type": "markdown",
   "metadata": {},
   "source": [
    "> En los diccionarios no hay concepto de orden en los elementos."
   ]
  },
  {
   "cell_type": "markdown",
   "metadata": {},
   "source": [
    "**Ejercicio**\n",
    "\n",
    "Dado el siguiente diccionario obten la palabra \"hello\""
   ]
  },
  {
   "cell_type": "code",
   "execution_count": null,
   "metadata": {
    "collapsed": true
   },
   "outputs": [],
   "source": [
    "d = {'k1':[1,2,3,{'tricky':['oh','man','inception',{'target':[1,2,3,'hello']}]}]}"
   ]
  },
  {
   "cell_type": "code",
   "execution_count": null,
   "metadata": {
    "collapsed": true
   },
   "outputs": [],
   "source": []
  },
  {
   "cell_type": "code",
   "execution_count": null,
   "metadata": {
    "collapsed": true
   },
   "outputs": [],
   "source": []
  },
  {
   "cell_type": "code",
   "execution_count": null,
   "metadata": {
    "collapsed": true
   },
   "outputs": [],
   "source": []
  },
  {
   "cell_type": "code",
   "execution_count": null,
   "metadata": {
    "collapsed": true
   },
   "outputs": [],
   "source": []
  },
  {
   "cell_type": "code",
   "execution_count": null,
   "metadata": {
    "collapsed": true
   },
   "outputs": [],
   "source": [
    "d['k1'][3]['tricky'][3]['target'][3]"
   ]
  },
  {
   "cell_type": "markdown",
   "metadata": {},
   "source": [
    "### ¿Qué harían para comparar dos diccionarios? "
   ]
  },
  {
   "cell_type": "code",
   "execution_count": null,
   "metadata": {
    "collapsed": true
   },
   "outputs": [],
   "source": []
  },
  {
   "cell_type": "code",
   "execution_count": null,
   "metadata": {
    "collapsed": true
   },
   "outputs": [],
   "source": []
  },
  {
   "cell_type": "code",
   "execution_count": null,
   "metadata": {
    "collapsed": true
   },
   "outputs": [],
   "source": [
    "dicti == tinydict"
   ]
  },
  {
   "cell_type": "markdown",
   "metadata": {},
   "source": [
    "<h2 style=\"color:#045FB4\">Funciones</h2>\n",
    "\n",
    "**Una función es unbloque de código organizado y reusable**, que se usa para realizar una sola acción. Las funciones brindan modularidad al código y permiten reusarlo.\n",
    "\n",
    "<h3 style=\"color:#8A0808\">Definir una función</h3>\n",
    "<p>Se pueden definir funciones para proveer de una función requerida. algunas reglas simples para definir una función en Python son:\n",
    "</p>\n",
    "<ul>\n",
    "<li>Los bloques de función comienzan con la palabra clave def seguida del nombre de la función y paréntesis ( ( ) ).</li>\n",
    "\n",
    "<li>Cualquier parámetros de entrada o argumento debe colocarse en estos paréntesis. También se pueden definir parámetros dentro de esos paréntesis.</li>\n",
    "\n",
    "<li>El bloque de código dentro de cada función empieza con dos puntos (:) y está identado.</li>\n",
    "\n",
    "<li>La declaración return [expresión] marca la salida de una función. De manera opcional se puede regresar una expresión a la variable que llama la función (o al notebook). Un return sin argumentos es lo mismo que un return None.</li>\n",
    "</ul>\n",
    "<h4>Sintaxis</h4>\n",
    "<pre>\n",
    "def nombredefuncion( parametros ):\n",
    "   \"function_docstring\"\n",
    "   function_suite\n",
    "   return [expresión]\n",
    "</pre>\n",
    "\n",
    "<h4>Ejemplo</h4>"
   ]
  },
  {
   "cell_type": "code",
   "execution_count": null,
   "metadata": {
    "collapsed": true
   },
   "outputs": [],
   "source": [
    "def printme(string_uno):\n",
    "    print(string_uno)\n",
    "    return"
   ]
  },
  {
   "cell_type": "markdown",
   "metadata": {},
   "source": [
    "<h3 style=\"color:#8A0808\">Llamar una función</h3>"
   ]
  },
  {
   "cell_type": "code",
   "execution_count": null,
   "metadata": {
    "collapsed": true
   },
   "outputs": [],
   "source": [
    "# Function definition is here\n",
    "def printme(string_uno):\n",
    "    print(string_uno)\n",
    "    return\n",
    "\n",
    "# Calling printme function\n",
    "printme(\"Call to defined function!\")\n",
    "printme(\"Call again to the function\")"
   ]
  },
  {
   "cell_type": "markdown",
   "metadata": {},
   "source": [
    "<h3 style=\"color:#8A0808\">Documentación</h3>"
   ]
  },
  {
   "cell_type": "code",
   "execution_count": null,
   "metadata": {
    "collapsed": true
   },
   "outputs": [],
   "source": [
    "# Function definition is here\n",
    "def printme(string_uno):\n",
    "    '''\n",
    "    Hi\n",
    "    '''\n",
    "    print(string_uno)\n",
    "    return"
   ]
  },
  {
   "cell_type": "code",
   "execution_count": null,
   "metadata": {
    "collapsed": true
   },
   "outputs": [],
   "source": [
    "'''\n",
    "Para llamar algo que imprima un string llama printme()\n",
    "ewf\n",
    "fsf\n",
    "fsrf\n",
    "'''\n",
    "printme()"
   ]
  },
  {
   "cell_type": "markdown",
   "metadata": {},
   "source": [
    "<h3 style=\"color:#8A0808\">Funciones anónimas</h3>\n",
    "\n",
    "Las funciones **anónimas** son llamadas aí porque no se declaran de la forma estándar usand la palabra clave def. Se puede usar **lambda** para crear pequeñas funciones anónimas.\n",
    "\n",
    "<ul>\n",
    "<li>Las funciones lambda pueden tomar cualquier número de argumentos, pero sólo regresan un valor a manera de expresión. No pueden contener muchos comandos o expresiones.</li>\n",
    "\n",
    "<li>No se pueden imprimir directamente porque requieren de una expresión.</li>\n",
    "\n",
    "<li>No pueden accesar otras variables que no sean las que están en su lista de parámetros o variables globales.</li>\n",
    "\n",
    "</ul>\n",
    "\n",
    "<h4>Sintaxis</h4>\n",
    "<p>La sintaxis de las funciones <strong>lambda</strong> sólo contiene una declaración simple</p>\n",
    "<pre>\n",
    "lambda [arg1 [,arg2,.....argn]]:expression\n",
    "</pre>\n",
    "\n",
    "<h4>Ejemplo</h4>"
   ]
  },
  {
   "cell_type": "code",
   "execution_count": null,
   "metadata": {},
   "outputs": [],
   "source": [
    "# Function definition is here\n",
    "sumaa = lambda arg1, arg2: arg1 + arg2\n",
    "\n",
    "# Now you can call sum as a function\n",
    "print (\"Value of total : \", sumaa( 10, 20 ))\n",
    "print (\"Value of total : \", sumaa( 20, 20 ))\n",
    "\n",
    "print (sumaa)"
   ]
  },
  {
   "cell_type": "code",
   "execution_count": null,
   "metadata": {
    "collapsed": true
   },
   "outputs": [],
   "source": [
    "toFloat = lambda arg1: arg1[0]"
   ]
  },
  {
   "cell_type": "code",
   "execution_count": null,
   "metadata": {},
   "outputs": [],
   "source": [
    "print (\"Make me float : \", toFloat(\"hola\"))"
   ]
  },
  {
   "cell_type": "code",
   "execution_count": null,
   "metadata": {
    "collapsed": true
   },
   "outputs": [],
   "source": []
  },
  {
   "cell_type": "markdown",
   "metadata": {},
   "source": [
    "<h3 style=\"color:#8A0808\">Declaración Return</h3>\n",
    "\n",
    "> La declaración **return** [expresión] nos saca de una función, de manera opcional nos regresa un parámetro.\n",
    "\n",
    "> Un **return** sin argumentos es lo msimo que un return **None**.\n",
    "\n",
    "Ejemplo"
   ]
  },
  {
   "cell_type": "code",
   "execution_count": null,
   "metadata": {
    "collapsed": true
   },
   "outputs": [],
   "source": [
    "# Function definition is here\n",
    "def sum( arg1, arg2 ):\n",
    "    total = arg1 + arg2\n",
    "    print (\"Inside the function : \", total)\n",
    "    return total, 7, 'hola'\n"
   ]
  },
  {
   "cell_type": "code",
   "execution_count": null,
   "metadata": {
    "collapsed": true
   },
   "outputs": [],
   "source": [
    "# Now you can call sum function\n",
    "total1, total2, total3 = sum( 10, 20 )\n",
    "print (\"Outside the function : \", total1 )"
   ]
  },
  {
   "cell_type": "markdown",
   "metadata": {},
   "source": [
    "**Ejercicio**\n",
    "\n",
    "Crea una función básica que regrese Verdadero (True) si la palabra perro viene en el string de entrada (suponiendo que no existen signos de puntuación)."
   ]
  },
  {
   "cell_type": "code",
   "execution_count": null,
   "metadata": {
    "collapsed": true
   },
   "outputs": [],
   "source": [
    "#def dogo(s):\n",
    "#    \n",
    "#        return True\n",
    "#    else:\n",
    "#        return False"
   ]
  },
  {
   "cell_type": "code",
   "execution_count": null,
   "metadata": {
    "collapsed": true
   },
   "outputs": [],
   "source": []
  },
  {
   "cell_type": "code",
   "execution_count": null,
   "metadata": {
    "collapsed": true
   },
   "outputs": [],
   "source": []
  },
  {
   "cell_type": "code",
   "execution_count": null,
   "metadata": {
    "collapsed": true
   },
   "outputs": [],
   "source": []
  },
  {
   "cell_type": "code",
   "execution_count": null,
   "metadata": {
    "collapsed": true
   },
   "outputs": [],
   "source": []
  },
  {
   "cell_type": "code",
   "execution_count": null,
   "metadata": {
    "collapsed": true
   },
   "outputs": [],
   "source": []
  },
  {
   "cell_type": "code",
   "execution_count": null,
   "metadata": {
    "collapsed": true
   },
   "outputs": [],
   "source": []
  },
  {
   "cell_type": "code",
   "execution_count": null,
   "metadata": {
    "collapsed": true
   },
   "outputs": [],
   "source": []
  },
  {
   "cell_type": "code",
   "execution_count": null,
   "metadata": {
    "collapsed": true
   },
   "outputs": [],
   "source": [
    "def dogo(s):\n",
    "    if any(t == 'perro' for t in s.split()):\n",
    "        return True\n",
    "    else:\n",
    "        return False"
   ]
  },
  {
   "cell_type": "code",
   "execution_count": null,
   "metadata": {},
   "outputs": [],
   "source": [
    "dogo('Tengo un perro')"
   ]
  },
  {
   "cell_type": "code",
   "execution_count": null,
   "metadata": {},
   "outputs": [],
   "source": [
    "dogo('Tengo un gato')"
   ]
  },
  {
   "cell_type": "markdown",
   "metadata": {},
   "source": [
    "<h2 style=\"color:#045FB4\">Pandas</h2>\n",
    "\n",
    "Pandas es una biblioteca de Python para la manipulación y análisis de datos. En particular ofrece estructuras de datos y operaciones para manipular tablas numéricas y series de datos."
   ]
  },
  {
   "cell_type": "code",
   "execution_count": null,
   "metadata": {
    "collapsed": true
   },
   "outputs": [],
   "source": [
    "import pandas as pd"
   ]
  },
  {
   "cell_type": "markdown",
   "metadata": {},
   "source": [
    "Los DataFrames son objetos para la manipulación de datos con indexación integrada. Podemos considerar que los DataFrames de pandas son tablas. Hay varias formas de crear DataFrames.\n",
    "\n",
    "**Leyendo datos de un archivo .csv: ** Se puede leer datos de un CSV usando la función read_csv. Por default, este método supone que los campos están separados por comas."
   ]
  },
  {
   "cell_type": "code",
   "execution_count": null,
   "metadata": {},
   "outputs": [],
   "source": [
    "winePD = pd.read_csv('data/wine.csv')\n",
    "winePD"
   ]
  },
  {
   "cell_type": "markdown",
   "metadata": {},
   "source": [
    "<h3 style=\"color:#8A0808\">Desde un diccionario de python de series de pandas</h3>"
   ]
  },
  {
   "cell_type": "code",
   "execution_count": null,
   "metadata": {},
   "outputs": [],
   "source": [
    "stockSummaries={'AMZN': pd.Series([346.15,0.59,459,0.52,589.8,158.88],\n",
    "                                  index=['Closing price','EPS','Shares Outstanding(M)',\n",
    "                                         'Beta', 'P/E','Market Cap(B)']),\n",
    "                'GOOG': pd.Series([1133.43,36.05,335.83,0.87,31.44,380.64],\n",
    "                                  index=['Closing price','EPS','Shares Outstanding(M)',\n",
    "                                         'Beta','P/E','Market Cap(B)']),\n",
    "                  'FB': pd.Series([61.48,0.59,2450,104.93,150.92],\n",
    "                                  index=['Closing price','EPS','Shares Outstanding(M)',\n",
    "                                         'P/E', 'Market Cap(B)']),\n",
    "                'YHOO': pd.Series([34.90,1.27,1010,27.48,0.66,35.36],\n",
    "                                  index=['Closing price','EPS','Shares Outstanding(M)',\n",
    "                                         'P/E','Beta', 'Market Cap(B)']),\n",
    "               'TWTR':pd.Series([65.25,-0.3,555.2,36.23],\n",
    "                                  index=['Closing price','EPS','Shares Outstanding(M)',\n",
    "                                         'Market Cap(B)']),\n",
    "               'AAPL':pd.Series([501.53,40.32,892.45,12.44,447.59,0.84],\n",
    "                                  index=['Closing price','EPS','Shares Outstanding(M)','P/E',\n",
    "                                         'Market Cap(B)','Beta'])}\n",
    "stockPD = pd.DataFrame(stockSummaries); \n",
    "stockPD"
   ]
  },
  {
   "cell_type": "markdown",
   "metadata": {},
   "source": [
    "<h3 style=\"color:#8A0808\">Desde un diccionario de python de arreglos o listas</h3>"
   ]
  },
  {
   "cell_type": "code",
   "execution_count": null,
   "metadata": {},
   "outputs": [],
   "source": [
    "alg={'search':['DFS','BFS','Binary Search','Linear','ShortestPath (Djikstra)'],\n",
    "      'sorting': ['Quicksort','Mergesort', 'Heapsort','Bubble Sort', 'Insertion Sort'],\n",
    "      'machine learning':['RandomForest','K Nearest Neighbor','Logistic Regression',\n",
    "                          'K-Means Clustering','Linear Regression']}\n",
    "algPD=pd.DataFrame(alg);\n",
    "algPD"
   ]
  },
  {
   "cell_type": "markdown",
   "metadata": {},
   "source": [
    "<h3 style=\"color:#8A0808\">Seleccionando filas y columnas</h3>"
   ]
  },
  {
   "cell_type": "code",
   "execution_count": null,
   "metadata": {},
   "outputs": [],
   "source": [
    "algPD[['machine learning','search']]"
   ]
  },
  {
   "cell_type": "markdown",
   "metadata": {},
   "source": [
    "<h3 style=\"color:#8A0808\">Insertar nueva columna</h3>"
   ]
  },
  {
   "cell_type": "code",
   "execution_count": null,
   "metadata": {},
   "outputs": [],
   "source": [
    "winePD.insert(0,'label',winePD['Class']==1)\n",
    "winePD"
   ]
  },
  {
   "cell_type": "code",
   "execution_count": null,
   "metadata": {},
   "outputs": [],
   "source": [
    "del(winePD['label'])\n",
    "winePD"
   ]
  },
  {
   "cell_type": "markdown",
   "metadata": {},
   "source": [
    "<h3 style=\"color:#8A0808\">Convertir DF en matriz</h3>"
   ]
  },
  {
   "cell_type": "code",
   "execution_count": null,
   "metadata": {},
   "outputs": [],
   "source": [
    "winePD.as_matrix()"
   ]
  },
  {
   "cell_type": "markdown",
   "metadata": {},
   "source": [
    "<h3 style=\"color:#8A0808\">Descriptivos</h3>"
   ]
  },
  {
   "cell_type": "code",
   "execution_count": null,
   "metadata": {},
   "outputs": [],
   "source": [
    "winePD.describe()"
   ]
  },
  {
   "cell_type": "markdown",
   "metadata": {},
   "source": [
    "<h3 style=\"color:#8A0808\">Gráficas</h3>"
   ]
  },
  {
   "cell_type": "code",
   "execution_count": null,
   "metadata": {},
   "outputs": [],
   "source": [
    "%matplotlib inline\n",
    "import pandas as pd\n",
    "import matplotlib.pyplot as plt\n",
    "import numpy as np\n",
    "plt.rcParams['figure.figsize'] = (15, 3)\n",
    "winePD.plot()"
   ]
  },
  {
   "cell_type": "code",
   "execution_count": null,
   "metadata": {},
   "outputs": [],
   "source": [
    "winePD['Ash'].plot()\n",
    "plt.show()"
   ]
  },
  {
   "cell_type": "code",
   "execution_count": null,
   "metadata": {},
   "outputs": [],
   "source": [
    "plt.hist(winePD['Ash'],bins=30)\n",
    "plt.show()"
   ]
  },
  {
   "cell_type": "code",
   "execution_count": null,
   "metadata": {},
   "outputs": [],
   "source": [
    "winePD.boxplot()"
   ]
  },
  {
   "cell_type": "markdown",
   "metadata": {},
   "source": [
    "<h3 style=\"color:#8A0808\">Guardar DF</h3>"
   ]
  },
  {
   "cell_type": "code",
   "execution_count": null,
   "metadata": {
    "collapsed": true
   },
   "outputs": [],
   "source": [
    "algPD.to_csv('data/algPD')"
   ]
  },
  {
   "cell_type": "markdown",
   "metadata": {},
   "source": [
    "<h2 style=\"color:#045FB4\">Ejemplos</h2>\n",
    "\n",
    "¡Por un kit de DATIO!\n",
    "\n",
    "<img src=\"./images/premio_DATIO.jpg\">\n",
    "\n",
    "### Ejemplo 1\n",
    "\n",
    "**Descripción:**\n",
    "Escribe una función que tome una lista de números y regrese su suma acumulada, es decir, una nueva lista, donde el primer elemento sea él mismo, el segundo la suma del primero con el segundo, el tercero la suma del segundo con el primero y así sucesivamente. Por ejemplo, la suma acumulada de [1,2,3] es [1, 3, 6].\n",
    "</div>"
   ]
  },
  {
   "cell_type": "code",
   "execution_count": null,
   "metadata": {
    "collapsed": true
   },
   "outputs": [],
   "source": []
  },
  {
   "cell_type": "code",
   "execution_count": null,
   "metadata": {
    "collapsed": true
   },
   "outputs": [],
   "source": []
  },
  {
   "cell_type": "code",
   "execution_count": null,
   "metadata": {
    "collapsed": true
   },
   "outputs": [],
   "source": []
  },
  {
   "cell_type": "code",
   "execution_count": null,
   "metadata": {
    "collapsed": true
   },
   "outputs": [],
   "source": []
  },
  {
   "cell_type": "code",
   "execution_count": null,
   "metadata": {
    "collapsed": true
   },
   "outputs": [],
   "source": []
  },
  {
   "cell_type": "code",
   "execution_count": null,
   "metadata": {
    "collapsed": true
   },
   "outputs": [],
   "source": [
    "def acumulate(li):\n",
    "    for i in range(len(li)-1,0,-1):\n",
    "        if i != 0:\n",
    "            for j in range(i):\n",
    "                li[i] += li[j]\n",
    "    return li\n",
    "\n",
    "li = [1,2,3,4]\n",
    "acumulate(li)"
   ]
  },
  {
   "cell_type": "code",
   "execution_count": null,
   "metadata": {
    "collapsed": true
   },
   "outputs": [],
   "source": []
  }
 ],
 "metadata": {
  "kernelspec": {
   "display_name": "Python 3",
   "language": "python",
   "name": "python3"
  },
  "language_info": {
   "codemirror_mode": {
    "name": "ipython",
    "version": 3
   },
   "file_extension": ".py",
   "mimetype": "text/x-python",
   "name": "python",
   "nbconvert_exporter": "python",
   "pygments_lexer": "ipython3",
   "version": "3.6.2"
  }
 },
 "nbformat": 4,
 "nbformat_minor": 2
}
